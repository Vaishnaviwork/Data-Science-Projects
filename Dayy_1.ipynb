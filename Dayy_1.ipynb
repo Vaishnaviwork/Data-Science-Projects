{
 "cells": [
  {
   "cell_type": "code",
   "execution_count": 1,
   "id": "36acc1f6",
   "metadata": {},
   "outputs": [
    {
     "name": "stdout",
     "output_type": "stream",
     "text": [
      "Hello Vaishu\n"
     ]
    }
   ],
   "source": [
    "print(\"Hello Vaishu\")"
   ]
  },
  {
   "cell_type": "code",
   "execution_count": null,
   "id": "5c52dee3",
   "metadata": {},
   "outputs": [],
   "source": []
  },
  {
   "cell_type": "markdown",
   "id": "06e9c382",
   "metadata": {},
   "source": [
    "Python Learnings"
   ]
  },
  {
   "cell_type": "markdown",
   "id": "853634c8",
   "metadata": {},
   "source": []
  },
  {
   "cell_type": "markdown",
   "id": "7a06811f",
   "metadata": {},
   "source": [
    "Variables"
   ]
  },
  {
   "cell_type": "code",
   "execution_count": 5,
   "id": "1f348b79",
   "metadata": {},
   "outputs": [],
   "source": [
    "A=10"
   ]
  },
  {
   "cell_type": "code",
   "execution_count": 7,
   "id": "54adc2de",
   "metadata": {},
   "outputs": [
    {
     "name": "stdout",
     "output_type": "stream",
     "text": [
      "10\n"
     ]
    }
   ],
   "source": [
    "print(A)"
   ]
  },
  {
   "cell_type": "code",
   "execution_count": 10,
   "id": "f61de6a3",
   "metadata": {},
   "outputs": [
    {
     "name": "stdout",
     "output_type": "stream",
     "text": [
      "Vaishu\n"
     ]
    }
   ],
   "source": [
    "User_name=\"Vaishu\"\n",
    "print(User_name)"
   ]
  },
  {
   "cell_type": "markdown",
   "id": "949b25c8",
   "metadata": {},
   "source": [
    "Data Types"
   ]
  },
  {
   "cell_type": "markdown",
   "id": "0700b387",
   "metadata": {},
   "source": [
    "#String"
   ]
  },
  {
   "cell_type": "markdown",
   "id": "2a752afa",
   "metadata": {},
   "source": [
    "#Int\n",
    "#Float"
   ]
  },
  {
   "cell_type": "markdown",
   "id": "0c15f693",
   "metadata": {},
   "source": [
    "Data Structure\n",
    "\n",
    "#Tuple\n",
    "#List\n",
    "#set\n",
    "#Dictionary\n"
   ]
  },
  {
   "cell_type": "markdown",
   "id": "836edebd",
   "metadata": {},
   "source": []
  },
  {
   "cell_type": "code",
   "execution_count": 11,
   "id": "59d96210",
   "metadata": {},
   "outputs": [],
   "source": [
    "L=[1,2,5.3,\"vaishu\"]"
   ]
  },
  {
   "cell_type": "code",
   "execution_count": 14,
   "id": "2c236b9f",
   "metadata": {},
   "outputs": [
    {
     "data": {
      "text/plain": [
       "'h'"
      ]
     },
     "execution_count": 14,
     "metadata": {},
     "output_type": "execute_result"
    }
   ],
   "source": [
    "L[-1][-2]"
   ]
  },
  {
   "cell_type": "code",
   "execution_count": 28,
   "id": "e966f5bf",
   "metadata": {},
   "outputs": [],
   "source": [
    "fruits=[\"apple\",\"banana\",\"mango\"]\n"
   ]
  },
  {
   "cell_type": "code",
   "execution_count": 29,
   "id": "bdbda63e",
   "metadata": {},
   "outputs": [],
   "source": [
    "fruits[1]=\"blueberry\""
   ]
  },
  {
   "cell_type": "code",
   "execution_count": 33,
   "id": "635aecc9",
   "metadata": {},
   "outputs": [],
   "source": [
    "fruits.append(\"orange\")"
   ]
  },
  {
   "cell_type": "code",
   "execution_count": 38,
   "id": "73b1ff8c",
   "metadata": {},
   "outputs": [
    {
     "data": {
      "text/plain": [
       "'orange'"
      ]
     },
     "execution_count": 38,
     "metadata": {},
     "output_type": "execute_result"
    }
   ],
   "source": [
    "fruits.pop()"
   ]
  },
  {
   "cell_type": "code",
   "execution_count": 39,
   "id": "771d90da",
   "metadata": {},
   "outputs": [
    {
     "data": {
      "text/plain": [
       "['apple', 'mango']"
      ]
     },
     "execution_count": 39,
     "metadata": {},
     "output_type": "execute_result"
    }
   ],
   "source": [
    "fruits"
   ]
  },
  {
   "cell_type": "code",
   "execution_count": 43,
   "id": "98b033eb",
   "metadata": {},
   "outputs": [
    {
     "data": {
      "text/plain": [
       "1"
      ]
     },
     "execution_count": 43,
     "metadata": {},
     "output_type": "execute_result"
    }
   ],
   "source": [
    "fruits.count(\"apple\")"
   ]
  },
  {
   "cell_type": "code",
   "execution_count": 44,
   "id": "fd6b20fb",
   "metadata": {},
   "outputs": [
    {
     "data": {
      "text/plain": [
       "['__add__',\n",
       " '__class__',\n",
       " '__class_getitem__',\n",
       " '__contains__',\n",
       " '__delattr__',\n",
       " '__dir__',\n",
       " '__doc__',\n",
       " '__eq__',\n",
       " '__format__',\n",
       " '__ge__',\n",
       " '__getattribute__',\n",
       " '__getitem__',\n",
       " '__getnewargs__',\n",
       " '__getstate__',\n",
       " '__gt__',\n",
       " '__hash__',\n",
       " '__init__',\n",
       " '__init_subclass__',\n",
       " '__iter__',\n",
       " '__le__',\n",
       " '__len__',\n",
       " '__lt__',\n",
       " '__mul__',\n",
       " '__ne__',\n",
       " '__new__',\n",
       " '__reduce__',\n",
       " '__reduce_ex__',\n",
       " '__repr__',\n",
       " '__rmul__',\n",
       " '__setattr__',\n",
       " '__sizeof__',\n",
       " '__str__',\n",
       " '__subclasshook__',\n",
       " 'count',\n",
       " 'index']"
      ]
     },
     "execution_count": 44,
     "metadata": {},
     "output_type": "execute_result"
    }
   ],
   "source": [
    "dir(tuple)"
   ]
  }
 ],
 "metadata": {
  "kernelspec": {
   "display_name": "Python 3",
   "language": "python",
   "name": "python3"
  },
  "language_info": {
   "codemirror_mode": {
    "name": "ipython",
    "version": 3
   },
   "file_extension": ".py",
   "mimetype": "text/x-python",
   "name": "python",
   "nbconvert_exporter": "python",
   "pygments_lexer": "ipython3",
   "version": "3.12.10"
  }
 },
 "nbformat": 4,
 "nbformat_minor": 5
}
